{
 "cells": [
  {
   "cell_type": "markdown",
   "metadata": {},
   "source": [
    "### The code is used to scrap data for papers in the biomedical field from National Institute for Health (NIH) API named PubMed."
   ]
  },
  {
   "cell_type": "code",
   "execution_count": 1,
   "metadata": {
    "collapsed": true
   },
   "outputs": [],
   "source": [
    "from Bio import Entrez\n",
    "from Bio.Entrez import efetch\n",
    "import pandas as pd\n",
    "import numpy as np"
   ]
  },
  {
   "cell_type": "code",
   "execution_count": 2,
   "metadata": {
    "collapsed": true
   },
   "outputs": [],
   "source": [
    "def print_abstract(pmid):\n",
    "    \"\"\"For a given PMID number, print the abstract for the paper\"\"\"\n",
    "    handle = efetch(db='pubmed', id=pmid, retmode='text', rettype='abstract')\n",
    "    print (handle.read())"
   ]
  },
  {
   "cell_type": "code",
   "execution_count": 3,
   "metadata": {
    "collapsed": true
   },
   "outputs": [],
   "source": [
    "def search(query):\n",
    "    \"\"\"define a function for performing the search\n",
    "    The list of citation IDs will be available as results[‘IdList’].\"\"\"\n",
    "    handle = Entrez.esearch(db='pubmed', \n",
    "                            sort='relevance', \n",
    "                            retmax='20',\n",
    "                            retmode='xml', \n",
    "                            term=query)\n",
    "    results = Entrez.read(handle)\n",
    "    return results"
   ]
  },
  {
   "cell_type": "code",
   "execution_count": 4,
   "metadata": {
    "collapsed": true
   },
   "outputs": [],
   "source": [
    "def create_idlist(n):\n",
    "    \"\"\"Return a list of PMID numbers with size n. The earliest paper PMID is 28785052 published on August 2017\"\"\"\n",
    "    idlist = []\n",
    "    for i in range(27000000-n, 27000000):\n",
    "        idlist.append(str(i))\n",
    "    return idlist"
   ]
  },
  {
   "cell_type": "code",
   "execution_count": 5,
   "metadata": {
    "collapsed": true
   },
   "outputs": [],
   "source": [
    "def fetch_details(id_list):\n",
    "    \"\"\"A function that gets a list of PMIDs and returns a xml of papers' information\"\"\"\n",
    "    ids = ','.join(id_list)\n",
    "    handle = Entrez.efetch(db='pubmed',\n",
    "                           retmode='xml',\n",
    "                           id=ids)\n",
    "    results = Entrez.read(handle)\n",
    "    return results"
   ]
  },
  {
   "cell_type": "code",
   "execution_count": 6,
   "metadata": {
    "collapsed": true
   },
   "outputs": [],
   "source": [
    "def get_title(paper):\n",
    "    \"\"\"Given a xml paper info, this function returns the paper's title\"\"\"\n",
    "    return paper['MedlineCitation']['Article']['ArticleTitle']   "
   ]
  },
  {
   "cell_type": "code",
   "execution_count": 7,
   "metadata": {
    "collapsed": true
   },
   "outputs": [],
   "source": [
    "def get_abstract(paper):\n",
    "    \"\"\"Given a xml paper info, this function returns the paper's abstract\"\"\"\n",
    "    try:\n",
    "        return paper['MedlineCitation']['Article']['Abstract']['AbstractText'][0]\n",
    "    except:\n",
    "        return np.nan"
   ]
  },
  {
   "cell_type": "code",
   "execution_count": 8,
   "metadata": {
    "collapsed": true
   },
   "outputs": [],
   "source": [
    "def get_year(paper):\n",
    "    \"\"\"Given a xml paper info, this function returns the paper's year of publication\"\"\"    \n",
    "    try:\n",
    "        return paper['MedlineCitation']['Article']['Journal']['JournalIssue']['PubDate']['Year']\n",
    "    except:\n",
    "        return np.nan"
   ]
  },
  {
   "cell_type": "code",
   "execution_count": 9,
   "metadata": {
    "collapsed": true
   },
   "outputs": [],
   "source": [
    "def get_journal(paper):\n",
    "    \"\"\"Given a xml paper info, this function returns the paper's journal name\"\"\"    \n",
    "    try:\n",
    "        return paper['MedlineCitation']['Article']['Journal']['Title']\n",
    "    except:\n",
    "        return np.nan"
   ]
  },
  {
   "cell_type": "code",
   "execution_count": 10,
   "metadata": {
    "collapsed": true
   },
   "outputs": [],
   "source": [
    "def get_citations(paper):\n",
    "    \"\"\"Given a xml paper info, this function returns a list containing all the PMIDs for paper's citations\"\"\"    \n",
    "    citations = []\n",
    "    try:\n",
    "        for citation in paper['MedlineCitation']['CommentsCorrectionsList']:\n",
    "            citations.append(str(citation['PMID']))\n",
    "    except:\n",
    "        citations = np.nan\n",
    "    return citations"
   ]
  },
  {
   "cell_type": "code",
   "execution_count": 11,
   "metadata": {
    "collapsed": true
   },
   "outputs": [],
   "source": [
    "def get_tags(paper):\n",
    "    \"\"\"Given a xml paper info, this function returns a list containing all tags for the paper\"\"\"    \n",
    "    tags_list = []\n",
    "    try:\n",
    "        for tag in paper['MedlineCitation']['MeshHeadingList']:\n",
    "            tags_list.append(str(tag['DescriptorName']))\n",
    "    except:\n",
    "        tags_list = np.nan\n",
    "    return tags_list"
   ]
  },
  {
   "cell_type": "code",
   "execution_count": 12,
   "metadata": {
    "collapsed": true
   },
   "outputs": [],
   "source": [
    "def get_authors(paper):\n",
    "    \"\"\"Given a xml paper info, this function returns a list containing last names of paper's authors\"\"\"\n",
    "    authors_list = []\n",
    "    try:\n",
    "        for auth in paper['MedlineCitation']['Article']['AuthorList']:\n",
    "            authors_list.append(str(auth['LastName']))\n",
    "    except:\n",
    "        authors_list = np.nan\n",
    "    return authors_list"
   ]
  },
  {
   "cell_type": "code",
   "execution_count": 13,
   "metadata": {
    "collapsed": true
   },
   "outputs": [],
   "source": [
    "def get_paper_info(paper, id):\n",
    "    \"\"\"Given paper's xml and PMID, it returns a tuple containing infomration about the paper\"\"\"\n",
    "    \n",
    "    title = get_title(paper)\n",
    "    authors = get_authors(paper)\n",
    "    tags = get_tags(paper)\n",
    "    citations = get_citations(paper)\n",
    "    year = get_year(paper)\n",
    "    abstract = get_abstract(paper)\n",
    "    journal = get_journal(paper)\n",
    "    return (id, title, authors, year, journal, abstract, tags, citations)"
   ]
  },
  {
   "cell_type": "code",
   "execution_count": 14,
   "metadata": {},
   "outputs": [
    {
     "name": "stdout",
     "output_type": "stream",
     "text": [
      "10000\n"
     ]
    },
    {
     "name": "stderr",
     "output_type": "stream",
     "text": [
      "/anaconda3/lib/python3.6/site-packages/Bio/Entrez/__init__.py:565: UserWarning: \n",
      "Email address is not specified.\n",
      "\n",
      "To make use of NCBI's E-utilities, NCBI requires you to specify your\n",
      "email address with each request.  As an example, if your email address\n",
      "is A.N.Other@example.com, you can specify it as follows:\n",
      "   from Bio import Entrez\n",
      "   Entrez.email = 'A.N.Other@example.com'\n",
      "In case of excessive usage of the E-utilities, NCBI will attempt to contact\n",
      "a user at the email address provided before blocking access to the\n",
      "E-utilities.\n",
      "  E-utilities.\"\"\", UserWarning)\n"
     ]
    }
   ],
   "source": [
    "if __name__ == '__main__':\n",
    "    id_list = create_idlist(10000)\n",
    "    print(len(id_list))\n",
    "    try:\n",
    "        papers = fetch_details(id_list)\n",
    "    except:\n",
    "        pass\n",
    "    \n",
    "    paper_list = []\n",
    "\n",
    "    for i, paper in enumerate(papers['PubmedArticle']):\n",
    "#        if i==20:\n",
    "#            print (paper)\n",
    "        paper_list.append(get_paper_info(paper, id_list[i]))\n",
    "\n",
    "    df = pd.DataFrame(paper_list, columns=['id', 'title', 'authors', 'year', 'journal', 'abstract', 'tags', 'citations'])"
   ]
  },
  {
   "cell_type": "code",
   "execution_count": 15,
   "metadata": {},
   "outputs": [
    {
     "name": "stdout",
     "output_type": "stream",
     "text": [
      "9632\n"
     ]
    },
    {
     "data": {
      "text/html": [
       "<div>\n",
       "<style>\n",
       "    .dataframe thead tr:only-child th {\n",
       "        text-align: right;\n",
       "    }\n",
       "\n",
       "    .dataframe thead th {\n",
       "        text-align: left;\n",
       "    }\n",
       "\n",
       "    .dataframe tbody tr th {\n",
       "        vertical-align: top;\n",
       "    }\n",
       "</style>\n",
       "<table border=\"1\" class=\"dataframe\">\n",
       "  <thead>\n",
       "    <tr style=\"text-align: right;\">\n",
       "      <th></th>\n",
       "      <th>id</th>\n",
       "      <th>title</th>\n",
       "      <th>authors</th>\n",
       "      <th>year</th>\n",
       "      <th>journal</th>\n",
       "      <th>abstract</th>\n",
       "      <th>tags</th>\n",
       "      <th>citations</th>\n",
       "    </tr>\n",
       "  </thead>\n",
       "  <tbody>\n",
       "    <tr>\n",
       "      <th>0</th>\n",
       "      <td>26990000</td>\n",
       "      <td>Conjugation of Uridine with Oleanolic Acid Der...</td>\n",
       "      <td>[Cheng, Su, Huang, Liu, Zheng, Chen]</td>\n",
       "      <td>2016</td>\n",
       "      <td>Chemical biology &amp; drug design</td>\n",
       "      <td>According to fused two bioactive moieties toge...</td>\n",
       "      <td>[Antineoplastic Agents, Apoptosis, Caspase 3, ...</td>\n",
       "      <td>NaN</td>\n",
       "    </tr>\n",
       "    <tr>\n",
       "      <th>1</th>\n",
       "      <td>26990001</td>\n",
       "      <td>Atrial Fibrillation Predicts Cardiovascular Ou...</td>\n",
       "      <td>[Vrsalovic, Vucur, Jelakovic]</td>\n",
       "      <td>2016</td>\n",
       "      <td>Journal of clinical hypertension (Greenwich, C...</td>\n",
       "      <td>NaN</td>\n",
       "      <td>[Atrial Fibrillation, Heart Failure, Humans, H...</td>\n",
       "      <td>NaN</td>\n",
       "    </tr>\n",
       "    <tr>\n",
       "      <th>2</th>\n",
       "      <td>26990002</td>\n",
       "      <td>Vav1 Regulates Mesenchymal Stem Cell Different...</td>\n",
       "      <td>[Qu, Wang, Min, McKennett, Keller, Lin]</td>\n",
       "      <td>2016</td>\n",
       "      <td>Stem cells (Dayton, Ohio)</td>\n",
       "      <td>Mesenchymal stem cells (MSCs) are multipotent ...</td>\n",
       "      <td>[Adipocytes, Adipogenesis, Adiposity, Animals,...</td>\n",
       "      <td>NaN</td>\n",
       "    </tr>\n",
       "    <tr>\n",
       "      <th>3</th>\n",
       "      <td>26990003</td>\n",
       "      <td>Treatment of Mental or Physical Health Problem...</td>\n",
       "      <td>[Conway, Schmied, Larson, Galarneau, Hammer, Q...</td>\n",
       "      <td>2016</td>\n",
       "      <td>Journal of traumatic stress</td>\n",
       "      <td>The primary aim of this study was to evaluate ...</td>\n",
       "      <td>[Adult, Combat Disorders, Databases, Factual, ...</td>\n",
       "      <td>NaN</td>\n",
       "    </tr>\n",
       "    <tr>\n",
       "      <th>4</th>\n",
       "      <td>26990004</td>\n",
       "      <td>Sex Work Regulation and Sexually Transmitted I...</td>\n",
       "      <td>[Quast, Gonzalez]</td>\n",
       "      <td>2017</td>\n",
       "      <td>Health economics</td>\n",
       "      <td>While reducing the transmission of sexually tr...</td>\n",
       "      <td>[Adolescent, Adult, Age Factors, Aged, Female,...</td>\n",
       "      <td>NaN</td>\n",
       "    </tr>\n",
       "    <tr>\n",
       "      <th>5</th>\n",
       "      <td>26990005</td>\n",
       "      <td>How to manage the logistics of biological ther...</td>\n",
       "      <td>[Headon]</td>\n",
       "      <td>2016</td>\n",
       "      <td>Journal of gastroenterology and hepatology</td>\n",
       "      <td>NaN</td>\n",
       "      <td>[Biological Factors, Delivery of Health Care, ...</td>\n",
       "      <td>NaN</td>\n",
       "    </tr>\n",
       "    <tr>\n",
       "      <th>6</th>\n",
       "      <td>26990006</td>\n",
       "      <td>Hardware complications and failure of three-un...</td>\n",
       "      <td>[Shi, Zhang, Qiao, Qian, Mo, Lai]</td>\n",
       "      <td>2017</td>\n",
       "      <td>Clinical oral implants research</td>\n",
       "      <td>The aim of the present study was to assess the...</td>\n",
       "      <td>[Adult, Aged, Aged, 80 and over, Dental Porcel...</td>\n",
       "      <td>NaN</td>\n",
       "    </tr>\n",
       "    <tr>\n",
       "      <th>7</th>\n",
       "      <td>26990007</td>\n",
       "      <td>Impact of human milk pasteurization on the kin...</td>\n",
       "      <td>[Deglaire, De Oliveira, Jardin, Briard-Bion, E...</td>\n",
       "      <td>2016</td>\n",
       "      <td>Electrophoresis</td>\n",
       "      <td>Holder pasteurization (62.5°C, 30 min) ensures...</td>\n",
       "      <td>[Chromatography, Liquid, Digestion, Humans, In...</td>\n",
       "      <td>NaN</td>\n",
       "    </tr>\n",
       "    <tr>\n",
       "      <th>8</th>\n",
       "      <td>26990008</td>\n",
       "      <td>Attentional guidance by relative features: Beh...</td>\n",
       "      <td>[Schönhammer, Grubert, Kerzel, Becker]</td>\n",
       "      <td>2016</td>\n",
       "      <td>Psychophysiology</td>\n",
       "      <td>Our ability to select task-relevant informatio...</td>\n",
       "      <td>[Adult, Attention, Cues, Electroencephalograph...</td>\n",
       "      <td>NaN</td>\n",
       "    </tr>\n",
       "    <tr>\n",
       "      <th>9</th>\n",
       "      <td>26990009</td>\n",
       "      <td>Identifying Older Adults with Serious Illness:...</td>\n",
       "      <td>[Kelley, Covinsky, Gorges, McKendrick, Bollens...</td>\n",
       "      <td>2017</td>\n",
       "      <td>Health services research</td>\n",
       "      <td>To create and test three prospective, increasi...</td>\n",
       "      <td>[Activities of Daily Living, Aged, Aged, 80 an...</td>\n",
       "      <td>[15493448, 17187548, 23838378, 9441588, 198285...</td>\n",
       "    </tr>\n",
       "  </tbody>\n",
       "</table>\n",
       "</div>"
      ],
      "text/plain": [
       "         id                                              title  \\\n",
       "0  26990000  Conjugation of Uridine with Oleanolic Acid Der...   \n",
       "1  26990001  Atrial Fibrillation Predicts Cardiovascular Ou...   \n",
       "2  26990002  Vav1 Regulates Mesenchymal Stem Cell Different...   \n",
       "3  26990003  Treatment of Mental or Physical Health Problem...   \n",
       "4  26990004  Sex Work Regulation and Sexually Transmitted I...   \n",
       "5  26990005  How to manage the logistics of biological ther...   \n",
       "6  26990006  Hardware complications and failure of three-un...   \n",
       "7  26990007  Impact of human milk pasteurization on the kin...   \n",
       "8  26990008  Attentional guidance by relative features: Beh...   \n",
       "9  26990009  Identifying Older Adults with Serious Illness:...   \n",
       "\n",
       "                                             authors  year  \\\n",
       "0               [Cheng, Su, Huang, Liu, Zheng, Chen]  2016   \n",
       "1                      [Vrsalovic, Vucur, Jelakovic]  2016   \n",
       "2            [Qu, Wang, Min, McKennett, Keller, Lin]  2016   \n",
       "3  [Conway, Schmied, Larson, Galarneau, Hammer, Q...  2016   \n",
       "4                                  [Quast, Gonzalez]  2017   \n",
       "5                                           [Headon]  2016   \n",
       "6                  [Shi, Zhang, Qiao, Qian, Mo, Lai]  2017   \n",
       "7  [Deglaire, De Oliveira, Jardin, Briard-Bion, E...  2016   \n",
       "8             [Schönhammer, Grubert, Kerzel, Becker]  2016   \n",
       "9  [Kelley, Covinsky, Gorges, McKendrick, Bollens...  2017   \n",
       "\n",
       "                                             journal  \\\n",
       "0                     Chemical biology & drug design   \n",
       "1  Journal of clinical hypertension (Greenwich, C...   \n",
       "2                          Stem cells (Dayton, Ohio)   \n",
       "3                        Journal of traumatic stress   \n",
       "4                                   Health economics   \n",
       "5         Journal of gastroenterology and hepatology   \n",
       "6                    Clinical oral implants research   \n",
       "7                                    Electrophoresis   \n",
       "8                                   Psychophysiology   \n",
       "9                           Health services research   \n",
       "\n",
       "                                            abstract  \\\n",
       "0  According to fused two bioactive moieties toge...   \n",
       "1                                                NaN   \n",
       "2  Mesenchymal stem cells (MSCs) are multipotent ...   \n",
       "3  The primary aim of this study was to evaluate ...   \n",
       "4  While reducing the transmission of sexually tr...   \n",
       "5                                                NaN   \n",
       "6  The aim of the present study was to assess the...   \n",
       "7  Holder pasteurization (62.5°C, 30 min) ensures...   \n",
       "8  Our ability to select task-relevant informatio...   \n",
       "9  To create and test three prospective, increasi...   \n",
       "\n",
       "                                                tags  \\\n",
       "0  [Antineoplastic Agents, Apoptosis, Caspase 3, ...   \n",
       "1  [Atrial Fibrillation, Heart Failure, Humans, H...   \n",
       "2  [Adipocytes, Adipogenesis, Adiposity, Animals,...   \n",
       "3  [Adult, Combat Disorders, Databases, Factual, ...   \n",
       "4  [Adolescent, Adult, Age Factors, Aged, Female,...   \n",
       "5  [Biological Factors, Delivery of Health Care, ...   \n",
       "6  [Adult, Aged, Aged, 80 and over, Dental Porcel...   \n",
       "7  [Chromatography, Liquid, Digestion, Humans, In...   \n",
       "8  [Adult, Attention, Cues, Electroencephalograph...   \n",
       "9  [Activities of Daily Living, Aged, Aged, 80 an...   \n",
       "\n",
       "                                           citations  \n",
       "0                                                NaN  \n",
       "1                                                NaN  \n",
       "2                                                NaN  \n",
       "3                                                NaN  \n",
       "4                                                NaN  \n",
       "5                                                NaN  \n",
       "6                                                NaN  \n",
       "7                                                NaN  \n",
       "8                                                NaN  \n",
       "9  [15493448, 17187548, 23838378, 9441588, 198285...  "
      ]
     },
     "execution_count": 15,
     "metadata": {},
     "output_type": "execute_result"
    }
   ],
   "source": [
    "print(len(paper_list))\n",
    "df.head(10)"
   ]
  },
  {
   "cell_type": "code",
   "execution_count": 16,
   "metadata": {},
   "outputs": [
    {
     "name": "stdout",
     "output_type": "stream",
     "text": [
      "<class 'pandas.core.frame.DataFrame'>\n",
      "RangeIndex: 9632 entries, 0 to 9631\n",
      "Data columns (total 8 columns):\n",
      "id           9632 non-null object\n",
      "title        9632 non-null object\n",
      "authors      9414 non-null object\n",
      "year         9051 non-null object\n",
      "journal      9632 non-null object\n",
      "abstract     8342 non-null object\n",
      "tags         7690 non-null object\n",
      "citations    3673 non-null object\n",
      "dtypes: object(8)\n",
      "memory usage: 602.1+ KB\n"
     ]
    }
   ],
   "source": [
    "df.info()"
   ]
  },
  {
   "cell_type": "code",
   "execution_count": 17,
   "metadata": {},
   "outputs": [
    {
     "name": "stdout",
     "output_type": "stream",
     "text": [
      "<class 'pandas.core.frame.DataFrame'>\n",
      "Int64Index: 7690 entries, 0 to 9631\n",
      "Data columns (total 8 columns):\n",
      "id           7690 non-null object\n",
      "title        7690 non-null object\n",
      "authors      7554 non-null object\n",
      "year         7316 non-null object\n",
      "journal      7690 non-null object\n",
      "abstract     6812 non-null object\n",
      "tags         7690 non-null object\n",
      "citations    2656 non-null object\n",
      "dtypes: object(8)\n",
      "memory usage: 540.7+ KB\n"
     ]
    }
   ],
   "source": [
    "df.dropna(axis=0, subset=['title','tags'], inplace=True)\n",
    "df.info()"
   ]
  },
  {
   "cell_type": "code",
   "execution_count": 18,
   "metadata": {
    "collapsed": true
   },
   "outputs": [],
   "source": [
    "df.to_csv('./data.csv', index=False, header=True, sep='\\t')"
   ]
  }
 ],
 "metadata": {
  "kernelspec": {
   "display_name": "Python 3",
   "language": "python",
   "name": "python3"
  },
  "language_info": {
   "codemirror_mode": {
    "name": "ipython",
    "version": 3
   },
   "file_extension": ".py",
   "mimetype": "text/x-python",
   "name": "python",
   "nbconvert_exporter": "python",
   "pygments_lexer": "ipython3",
   "version": "3.6.2"
  }
 },
 "nbformat": 4,
 "nbformat_minor": 2
}
